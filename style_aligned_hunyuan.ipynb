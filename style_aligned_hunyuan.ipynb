{
 "cells": [
  {
   "cell_type": "markdown",
   "id": "a885cf5d-c525-4f5b-a8e4-f67d2f699909",
   "metadata": {},
   "source": [
    "## Copyright 2023 Google LLC"
   ]
  },
  {
   "cell_type": "code",
   "execution_count": null,
   "id": "d891d022-8979-40d4-848f-ecb84c17f12c",
   "metadata": {
    "jp-MarkdownHeadingCollapsed": true
   },
   "outputs": [],
   "source": [
    "# Copyright 2023 Google LLC\n",
    "#\n",
    "# Licensed under the Apache License, Version 2.0 (the \"License\");\n",
    "# you may not use this file except in compliance with the License.\n",
    "# You may obtain a copy of the License at\n",
    "#\n",
    "#      http://www.apache.org/licenses/LICENSE-2.0\n",
    "#\n",
    "# Unless required by applicable law or agreed to in writing, software\n",
    "# distributed under the License is distributed on an \"AS IS\" BASIS,\n",
    "# WITHOUT WARRANTIES OR CONDITIONS OF ANY KIND, either express or implied.\n",
    "# See the License for the specific language governing permissions and\n",
    "# limitations under the License."
   ]
  },
  {
   "cell_type": "markdown",
   "id": "540d8642-c203-471c-a66d-0d43aabb0706",
   "metadata": {},
   "source": [
    "# StyleAligned over Hunyuan"
   ]
  },
  {
   "cell_type": "code",
   "execution_count": null,
   "id": "c09023a4",
   "metadata": {},
   "outputs": [],
   "source": [
    "import sys\n",
    "import os\n",
    "sys.path.append('/home/supermicro/zyb/Unified-codebase-for-proccessing-the-single-image/style-aligned-for-DiT')"
   ]
  },
  {
   "cell_type": "code",
   "execution_count": null,
   "id": "23d54ea7-f7ab-4548-9b10-ece87216dc18",
   "metadata": {},
   "outputs": [],
   "source": [
    "from diffusers import HunyuanDiTPipeline, DDIMScheduler\n",
    "import torch\n",
    "import mediapy\n",
    "import sa_handler_for_hunyuan"
   ]
  },
  {
   "cell_type": "code",
   "execution_count": null,
   "id": "b3586ad0",
   "metadata": {},
   "outputs": [],
   "source": [
    "# init models\n",
    "\n",
    "scheduler = DDIMScheduler(beta_start=0.00085, beta_end=0.012, beta_schedule=\"scaled_linear\", clip_sample=False,\n",
    "                              set_alpha_to_one=False)\n",
    "pipeline = HunyuanDiTPipeline.from_pretrained(\"Tencent-Hunyuan/HunyuanDiT-v1.2-Diffusers\", torch_dtype=torch.float16).to(\"cuda:1\")"
   ]
  },
  {
   "cell_type": "code",
   "execution_count": null,
   "id": "c2f6f1e6-445f-47bc-b9db-0301caeb7490",
   "metadata": {
    "pycharm": {
     "name": "#%%\n"
    }
   },
   "outputs": [],
   "source": [
    "handler = sa_handler_for_hunyuan.Handler(pipeline)\n",
    "sa_args = sa_handler_for_hunyuan.StyleAlignedArgs(share_group_norm=False,\n",
    "                                      share_layer_norm=False,\n",
    "                                      share_attention=False,\n",
    "                                      adain_queries=False, # origing True\n",
    "                                      adain_keys=True, # origin True\n",
    "                                      adain_values=False,\n",
    "                                      shared_score_scale=1,\n",
    "                                     )\n",
    "\n",
    "handler.register(sa_args, )"
   ]
  },
  {
   "cell_type": "code",
   "execution_count": null,
   "id": "5cca9256-0ce0-45c3-9cba-68c7eff1452f",
   "metadata": {
    "pycharm": {
     "name": "#%%\n"
    }
   },
   "outputs": [],
   "source": [
    "# run StyleAligned\n",
    "\n",
    "# sets_of_prompts = [\n",
    "#   \"a toy train. macro photo. 3d game asset\",\n",
    "#   \"a toy airplane. macro photo. 3d game asset\",\n",
    "#   \"a toy bicycle. macro photo. 3d game asset\",\n",
    "#   \"a toy car. macro photo. 3d game asset\",\n",
    "#   \"a toy boat. macro photo. 3d game asset\",\n",
    "# ]\n",
    "\n",
    "# sets_of_prompts = [\n",
    "#   \"a cat in minimal flat design illustartion\",\n",
    "#   # \"a dog in minimal flat design illustartion\",\n",
    "#   # \"a bird in minimal flat design illustartion\",\n",
    "#   # \"a fish in minimal flat design illustartion\",\n",
    "#   # \"a unicorn in minimal flat design illustartion\",\n",
    "# ]\n",
    "\n",
    "sets_of_prompts = [\n",
    "  \"A brown and white corgi sits on an orange background, looking up at the camera. The photo is close-up, centered, and head-up, showing the real corgi and creating a warm atmosphere.\",\n",
    "  \"A brown and white corgi is swimming. The photo is close-up, centered, and head-up, showing the real corgi and creating a warm atmosphere.\",\n",
    "  \"A brown and white corgi sits on an orange background, wearing a hat, looking up at the camera. The photo is close-up, centered, and head-up, showing the real corgi and creating a warm atmosphere.\",\n",
    "  \"A brown and white corgi in a bucket, looking up at the camera. The photo is close-up, centered, and head-up, showing the real corgi and creating a warm atmosphere.\",\n",
    "  \"A brown and white corgi sits, in the style of van gogh, looking up at the camera. The photo is close-up, centered, and head-up, creating a warm atmosphere.\",\n",
    "]\n",
    "\n",
    "\n",
    "images = pipeline(sets_of_prompts,).images\n",
    "mediapy.show_images(images)"
   ]
  },
  {
   "cell_type": "code",
   "execution_count": null,
   "id": "d819ad6d-0c19-411f-ba97-199909f64805",
   "metadata": {},
   "outputs": [],
   "source": [
    "for i in range(len(images)):\n",
    "    image = images[i]\n",
    "    image.save('/home/supermicro/zyb/Unified-codebase-for-proccessing-the-single-image/style-aligned-for-DiT/results/only_adain_keys_corgi_{}.png'.format(sets_of_prompts[i].replace(' ', '_')))"
   ]
  },
  {
   "cell_type": "code",
   "execution_count": null,
   "id": "7b441cc0",
   "metadata": {},
   "outputs": [],
   "source": [
    "print(pipeline)\n",
    "transformer = pipeline.transformer\n",
    "print(transformer.attn_processors.keys())\n",
    "num_self_layers = len([name for name in transformer.attn_processors.keys() if 'attn1' in name])\n",
    "print(num_self_layers)"
   ]
  }
 ],
 "metadata": {
  "kernelspec": {
   "display_name": "Python 3 (ipykernel)",
   "language": "python",
   "name": "python3"
  },
  "language_info": {
   "codemirror_mode": {
    "name": "ipython",
    "version": 3
   },
   "file_extension": ".py",
   "mimetype": "text/x-python",
   "name": "python",
   "nbconvert_exporter": "python",
   "pygments_lexer": "ipython3",
   "version": "3.10.11"
  }
 },
 "nbformat": 4,
 "nbformat_minor": 5
}
